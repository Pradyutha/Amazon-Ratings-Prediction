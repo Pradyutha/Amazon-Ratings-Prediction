{
 "cells": [
  {
   "cell_type": "code",
   "execution_count": 1,
   "id": "7dbb82b6",
   "metadata": {
    "_cell_guid": "b1076dfc-b9ad-4769-8c92-a6c4dae69d19",
    "_uuid": "8f2839f25d086af736a60e9eeb907d3b93b6e0e5",
    "execution": {
     "iopub.execute_input": "2023-11-13T07:15:37.835700Z",
     "iopub.status.busy": "2023-11-13T07:15:37.835222Z",
     "iopub.status.idle": "2023-11-13T07:15:38.147370Z",
     "shell.execute_reply": "2023-11-13T07:15:38.146062Z"
    },
    "papermill": {
     "duration": 0.320489,
     "end_time": "2023-11-13T07:15:38.149565",
     "exception": false,
     "start_time": "2023-11-13T07:15:37.829076",
     "status": "completed"
    },
    "tags": []
   },
   "outputs": [
    {
     "name": "stdout",
     "output_type": "stream",
     "text": [
      "/kaggle/input/final-competition-fall2023/sample_submission.csv\n",
      "/kaggle/input/final-competition-fall2023/foods_training.csv\n",
      "/kaggle/input/final-competition-fall2023/foods_testing.csv\n"
     ]
    }
   ],
   "source": [
    "# This Python 3 environment comes with many helpful analytics libraries installed\n",
    "# It is defined by the kaggle/python Docker image: https://github.com/kaggle/docker-python\n",
    "# For example, here's several helpful packages to load\n",
    "\n",
    "import numpy as np # linear algebra\n",
    "import pandas as pd # data processing, CSV file I/O (e.g. pd.read_csv)\n",
    "\n",
    "# Input data files are available in the read-only \"../input/\" directory\n",
    "# For example, running this (by clicking run or pressing Shift+Enter) will list all files under the input directory\n",
    "\n",
    "import os\n",
    "for dirname, _, filenames in os.walk('/kaggle/input'):\n",
    "    for filename in filenames:\n",
    "        print(os.path.join(dirname, filename))\n",
    "\n",
    "# You can write up to 20GB to the current directory (/kaggle/working/) that gets preserved as output when you create a version using \"Save & Run All\" \n",
    "# You can also write temporary files to /kaggle/temp/, but they won't be saved outside of the current session"
   ]
  },
  {
   "cell_type": "code",
   "execution_count": 2,
   "id": "696dbff4",
   "metadata": {
    "execution": {
     "iopub.execute_input": "2023-11-13T07:15:38.158463Z",
     "iopub.status.busy": "2023-11-13T07:15:38.157934Z",
     "iopub.status.idle": "2023-11-13T07:15:39.539817Z",
     "shell.execute_reply": "2023-11-13T07:15:39.538747Z"
    },
    "papermill": {
     "duration": 1.388988,
     "end_time": "2023-11-13T07:15:39.542280",
     "exception": false,
     "start_time": "2023-11-13T07:15:38.153292",
     "status": "completed"
    },
    "tags": []
   },
   "outputs": [],
   "source": [
    "import pandas as pd\n",
    "from sklearn.feature_extraction.text import TfidfVectorizer\n",
    "from sklearn.linear_model import LogisticRegression\n",
    "from sklearn.metrics import classification_report"
   ]
  },
  {
   "cell_type": "code",
   "execution_count": 3,
   "id": "ba402586",
   "metadata": {
    "execution": {
     "iopub.execute_input": "2023-11-13T07:15:39.550736Z",
     "iopub.status.busy": "2023-11-13T07:15:39.549679Z",
     "iopub.status.idle": "2023-11-13T07:15:46.235615Z",
     "shell.execute_reply": "2023-11-13T07:15:46.234006Z"
    },
    "papermill": {
     "duration": 6.693209,
     "end_time": "2023-11-13T07:15:46.238701",
     "exception": false,
     "start_time": "2023-11-13T07:15:39.545492",
     "status": "completed"
    },
    "tags": []
   },
   "outputs": [],
   "source": [
    "training_data = pd.read_csv(\"/kaggle/input/final-competition-fall2023/foods_training.csv\", encoding = \"latin1\")\n",
    "testing_data = pd.read_csv(\"/kaggle/input/final-competition-fall2023/foods_testing.csv\", encoding = \"latin1\")"
   ]
  },
  {
   "cell_type": "code",
   "execution_count": 4,
   "id": "3c05d047",
   "metadata": {
    "execution": {
     "iopub.execute_input": "2023-11-13T07:15:46.246859Z",
     "iopub.status.busy": "2023-11-13T07:15:46.246489Z",
     "iopub.status.idle": "2023-11-13T07:15:46.374312Z",
     "shell.execute_reply": "2023-11-13T07:15:46.372137Z"
    },
    "papermill": {
     "duration": 0.134993,
     "end_time": "2023-11-13T07:15:46.376930",
     "exception": false,
     "start_time": "2023-11-13T07:15:46.241937",
     "status": "completed"
    },
    "tags": []
   },
   "outputs": [],
   "source": [
    "training_data['text'].fillna('', inplace=True)\n",
    "testing_data['text'].fillna('', inplace=True)"
   ]
  },
  {
   "cell_type": "code",
   "execution_count": 5,
   "id": "8538723a",
   "metadata": {
    "execution": {
     "iopub.execute_input": "2023-11-13T07:15:46.386682Z",
     "iopub.status.busy": "2023-11-13T07:15:46.386306Z",
     "iopub.status.idle": "2023-11-13T07:15:46.393889Z",
     "shell.execute_reply": "2023-11-13T07:15:46.391593Z"
    },
    "papermill": {
     "duration": 0.017993,
     "end_time": "2023-11-13T07:15:46.398182",
     "exception": false,
     "start_time": "2023-11-13T07:15:46.380189",
     "status": "completed"
    },
    "tags": []
   },
   "outputs": [],
   "source": [
    "X_train = training_data['text']\n",
    "y_train = training_data['score_level']\n",
    "X_test = testing_data['text']"
   ]
  },
  {
   "cell_type": "code",
   "execution_count": 6,
   "id": "2844ddcc",
   "metadata": {
    "execution": {
     "iopub.execute_input": "2023-11-13T07:15:46.407535Z",
     "iopub.status.busy": "2023-11-13T07:15:46.407073Z",
     "iopub.status.idle": "2023-11-13T07:16:16.921520Z",
     "shell.execute_reply": "2023-11-13T07:16:16.919926Z"
    },
    "papermill": {
     "duration": 30.522027,
     "end_time": "2023-11-13T07:16:16.924164",
     "exception": false,
     "start_time": "2023-11-13T07:15:46.402137",
     "status": "completed"
    },
    "tags": []
   },
   "outputs": [],
   "source": [
    "tfidf_vectorizer = TfidfVectorizer(max_features= 10000)\n",
    "X_train_tfidf = tfidf_vectorizer.fit_transform(X_train)\n",
    "X_test_tfidf = tfidf_vectorizer.transform(X_test)"
   ]
  },
  {
   "cell_type": "code",
   "execution_count": 7,
   "id": "20c9efbf",
   "metadata": {
    "execution": {
     "iopub.execute_input": "2023-11-13T07:16:16.932909Z",
     "iopub.status.busy": "2023-11-13T07:16:16.932537Z",
     "iopub.status.idle": "2023-11-13T07:19:23.595315Z",
     "shell.execute_reply": "2023-11-13T07:19:23.594156Z"
    },
    "papermill": {
     "duration": 186.673508,
     "end_time": "2023-11-13T07:19:23.601065",
     "exception": false,
     "start_time": "2023-11-13T07:16:16.927557",
     "status": "completed"
    },
    "tags": []
   },
   "outputs": [
    {
     "data": {
      "text/html": [
       "<style>#sk-container-id-1 {color: black;background-color: white;}#sk-container-id-1 pre{padding: 0;}#sk-container-id-1 div.sk-toggleable {background-color: white;}#sk-container-id-1 label.sk-toggleable__label {cursor: pointer;display: block;width: 100%;margin-bottom: 0;padding: 0.3em;box-sizing: border-box;text-align: center;}#sk-container-id-1 label.sk-toggleable__label-arrow:before {content: \"▸\";float: left;margin-right: 0.25em;color: #696969;}#sk-container-id-1 label.sk-toggleable__label-arrow:hover:before {color: black;}#sk-container-id-1 div.sk-estimator:hover label.sk-toggleable__label-arrow:before {color: black;}#sk-container-id-1 div.sk-toggleable__content {max-height: 0;max-width: 0;overflow: hidden;text-align: left;background-color: #f0f8ff;}#sk-container-id-1 div.sk-toggleable__content pre {margin: 0.2em;color: black;border-radius: 0.25em;background-color: #f0f8ff;}#sk-container-id-1 input.sk-toggleable__control:checked~div.sk-toggleable__content {max-height: 200px;max-width: 100%;overflow: auto;}#sk-container-id-1 input.sk-toggleable__control:checked~label.sk-toggleable__label-arrow:before {content: \"▾\";}#sk-container-id-1 div.sk-estimator input.sk-toggleable__control:checked~label.sk-toggleable__label {background-color: #d4ebff;}#sk-container-id-1 div.sk-label input.sk-toggleable__control:checked~label.sk-toggleable__label {background-color: #d4ebff;}#sk-container-id-1 input.sk-hidden--visually {border: 0;clip: rect(1px 1px 1px 1px);clip: rect(1px, 1px, 1px, 1px);height: 1px;margin: -1px;overflow: hidden;padding: 0;position: absolute;width: 1px;}#sk-container-id-1 div.sk-estimator {font-family: monospace;background-color: #f0f8ff;border: 1px dotted black;border-radius: 0.25em;box-sizing: border-box;margin-bottom: 0.5em;}#sk-container-id-1 div.sk-estimator:hover {background-color: #d4ebff;}#sk-container-id-1 div.sk-parallel-item::after {content: \"\";width: 100%;border-bottom: 1px solid gray;flex-grow: 1;}#sk-container-id-1 div.sk-label:hover label.sk-toggleable__label {background-color: #d4ebff;}#sk-container-id-1 div.sk-serial::before {content: \"\";position: absolute;border-left: 1px solid gray;box-sizing: border-box;top: 0;bottom: 0;left: 50%;z-index: 0;}#sk-container-id-1 div.sk-serial {display: flex;flex-direction: column;align-items: center;background-color: white;padding-right: 0.2em;padding-left: 0.2em;position: relative;}#sk-container-id-1 div.sk-item {position: relative;z-index: 1;}#sk-container-id-1 div.sk-parallel {display: flex;align-items: stretch;justify-content: center;background-color: white;position: relative;}#sk-container-id-1 div.sk-item::before, #sk-container-id-1 div.sk-parallel-item::before {content: \"\";position: absolute;border-left: 1px solid gray;box-sizing: border-box;top: 0;bottom: 0;left: 50%;z-index: -1;}#sk-container-id-1 div.sk-parallel-item {display: flex;flex-direction: column;z-index: 1;position: relative;background-color: white;}#sk-container-id-1 div.sk-parallel-item:first-child::after {align-self: flex-end;width: 50%;}#sk-container-id-1 div.sk-parallel-item:last-child::after {align-self: flex-start;width: 50%;}#sk-container-id-1 div.sk-parallel-item:only-child::after {width: 0;}#sk-container-id-1 div.sk-dashed-wrapped {border: 1px dashed gray;margin: 0 0.4em 0.5em 0.4em;box-sizing: border-box;padding-bottom: 0.4em;background-color: white;}#sk-container-id-1 div.sk-label label {font-family: monospace;font-weight: bold;display: inline-block;line-height: 1.2em;}#sk-container-id-1 div.sk-label-container {text-align: center;}#sk-container-id-1 div.sk-container {/* jupyter's `normalize.less` sets `[hidden] { display: none; }` but bootstrap.min.css set `[hidden] { display: none !important; }` so we also need the `!important` here to be able to override the default hidden behavior on the sphinx rendered scikit-learn.org. See: https://github.com/scikit-learn/scikit-learn/issues/21755 */display: inline-block !important;position: relative;}#sk-container-id-1 div.sk-text-repr-fallback {display: none;}</style><div id=\"sk-container-id-1\" class=\"sk-top-container\"><div class=\"sk-text-repr-fallback\"><pre>LogisticRegression(max_iter=10000)</pre><b>In a Jupyter environment, please rerun this cell to show the HTML representation or trust the notebook. <br />On GitHub, the HTML representation is unable to render, please try loading this page with nbviewer.org.</b></div><div class=\"sk-container\" hidden><div class=\"sk-item\"><div class=\"sk-estimator sk-toggleable\"><input class=\"sk-toggleable__control sk-hidden--visually\" id=\"sk-estimator-id-1\" type=\"checkbox\" checked><label for=\"sk-estimator-id-1\" class=\"sk-toggleable__label sk-toggleable__label-arrow\">LogisticRegression</label><div class=\"sk-toggleable__content\"><pre>LogisticRegression(max_iter=10000)</pre></div></div></div></div></div>"
      ],
      "text/plain": [
       "LogisticRegression(max_iter=10000)"
      ]
     },
     "execution_count": 7,
     "metadata": {},
     "output_type": "execute_result"
    }
   ],
   "source": [
    "lr_model = LogisticRegression(max_iter = 10000)\n",
    "lr_model.fit(X_train_tfidf,y_train)"
   ]
  },
  {
   "cell_type": "code",
   "execution_count": 8,
   "id": "7fc973b4",
   "metadata": {
    "execution": {
     "iopub.execute_input": "2023-11-13T07:19:23.611520Z",
     "iopub.status.busy": "2023-11-13T07:19:23.611123Z",
     "iopub.status.idle": "2023-11-13T07:19:23.618579Z",
     "shell.execute_reply": "2023-11-13T07:19:23.617748Z"
    },
    "papermill": {
     "duration": 0.015957,
     "end_time": "2023-11-13T07:19:23.621549",
     "exception": false,
     "start_time": "2023-11-13T07:19:23.605592",
     "status": "completed"
    },
    "tags": []
   },
   "outputs": [],
   "source": [
    "y_pred = lr_model.predict(X_test_tfidf)"
   ]
  },
  {
   "cell_type": "code",
   "execution_count": 9,
   "id": "2d444e36",
   "metadata": {
    "execution": {
     "iopub.execute_input": "2023-11-13T07:19:23.632808Z",
     "iopub.status.busy": "2023-11-13T07:19:23.631806Z",
     "iopub.status.idle": "2023-11-13T07:19:23.637691Z",
     "shell.execute_reply": "2023-11-13T07:19:23.637032Z"
    },
    "papermill": {
     "duration": 0.013909,
     "end_time": "2023-11-13T07:19:23.639832",
     "exception": false,
     "start_time": "2023-11-13T07:19:23.625923",
     "status": "completed"
    },
    "tags": []
   },
   "outputs": [],
   "source": [
    "predicted_labels = []\n",
    "for score in y_pred:\n",
    "    if score == 'high':\n",
    "        predicted_labels.append('high')\n",
    "    elif score == 'medium':\n",
    "        predicted_labels.append('medium')\n",
    "    elif score == 'low':\n",
    "        predicted_labels.append('low')"
   ]
  },
  {
   "cell_type": "code",
   "execution_count": 10,
   "id": "33a9bc05",
   "metadata": {
    "execution": {
     "iopub.execute_input": "2023-11-13T07:19:23.649776Z",
     "iopub.status.busy": "2023-11-13T07:19:23.649424Z",
     "iopub.status.idle": "2023-11-13T07:19:23.783875Z",
     "shell.execute_reply": "2023-11-13T07:19:23.782393Z"
    },
    "papermill": {
     "duration": 0.142421,
     "end_time": "2023-11-13T07:19:23.786476",
     "exception": false,
     "start_time": "2023-11-13T07:19:23.644055",
     "status": "completed"
    },
    "tags": []
   },
   "outputs": [
    {
     "name": "stdout",
     "output_type": "stream",
     "text": [
      "Classification Report:\n",
      "               precision    recall  f1-score   support\n",
      "\n",
      "        high       0.77      0.82      0.80      3866\n",
      "         low       0.15      0.14      0.14       733\n",
      "      medium       0.08      0.03      0.05       401\n",
      "\n",
      "    accuracy                           0.66      5000\n",
      "   macro avg       0.33      0.33      0.33      5000\n",
      "weighted avg       0.63      0.66      0.64      5000\n",
      "\n"
     ]
    },
    {
     "name": "stderr",
     "output_type": "stream",
     "text": [
      "/tmp/ipykernel_20/1694582170.py:3: SettingWithCopyWarning: \n",
      "A value is trying to be set on a copy of a slice from a DataFrame.\n",
      "Try using .loc[row_indexer,col_indexer] = value instead\n",
      "\n",
      "See the caveats in the documentation: https://pandas.pydata.org/pandas-docs/stable/user_guide/indexing.html#returning-a-view-versus-a-copy\n",
      "  submission_data.loc[:, 'score_level'] = predicted_labels[:len(testing_data)]\n"
     ]
    }
   ],
   "source": [
    "submission_data = testing_data[['ID']]\n",
    "#submission_data['score_level'] = predicted_labels[:len(testing_data)]\n",
    "submission_data.loc[:, 'score_level'] = predicted_labels[:len(testing_data)]\n",
    "subset_size = min(len(y_train), len(y_pred))\n",
    "report = classification_report(y_train[:subset_size], y_pred[:subset_size])\n",
    "print(\"Classification Report:\\n\", report)"
   ]
  },
  {
   "cell_type": "code",
   "execution_count": 11,
   "id": "c2474496",
   "metadata": {
    "execution": {
     "iopub.execute_input": "2023-11-13T07:19:23.795882Z",
     "iopub.status.busy": "2023-11-13T07:19:23.794860Z",
     "iopub.status.idle": "2023-11-13T07:19:23.809851Z",
     "shell.execute_reply": "2023-11-13T07:19:23.808355Z"
    },
    "papermill": {
     "duration": 0.02249,
     "end_time": "2023-11-13T07:19:23.812760",
     "exception": false,
     "start_time": "2023-11-13T07:19:23.790270",
     "status": "completed"
    },
    "tags": []
   },
   "outputs": [],
   "source": [
    "submission_data.to_csv(\"prediction_pk11.csv\", index=False)"
   ]
  }
 ],
 "metadata": {
  "kernelspec": {
   "display_name": "Python 3",
   "language": "python",
   "name": "python3"
  },
  "language_info": {
   "codemirror_mode": {
    "name": "ipython",
    "version": 3
   },
   "file_extension": ".py",
   "mimetype": "text/x-python",
   "name": "python",
   "nbconvert_exporter": "python",
   "pygments_lexer": "ipython3",
   "version": "3.10.12"
  },
  "papermill": {
   "default_parameters": {},
   "duration": 229.496002,
   "end_time": "2023-11-13T07:19:24.539036",
   "environment_variables": {},
   "exception": null,
   "input_path": "__notebook__.ipynb",
   "output_path": "__notebook__.ipynb",
   "parameters": {},
   "start_time": "2023-11-13T07:15:35.043034",
   "version": "2.4.0"
  }
 },
 "nbformat": 4,
 "nbformat_minor": 5
}
